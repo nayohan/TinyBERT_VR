{
 "cells": [
  {
   "cell_type": "code",
   "execution_count": null,
   "metadata": {},
   "outputs": [],
   "source": [
    "from transformers import AutoTokenizer, AutoModel\n",
    "\n",
    "# Load Tokenizer & Model \n",
    "tokenizer = AutoTokenizer.from_pretrained('huawei-noah/TinyBERT_General_4L_312D')\n",
    "model = AutoModel.from_pretrained('huawei-noah/TinyBERT_General_4L_312D')\n",
    "\n",
    "model.save_pretrained('./tiny-bert')\n",
    "tokenizer.save_pretrained('./tiny-bert')"
   ]
  },
  {
   "cell_type": "code",
   "execution_count": null,
   "metadata": {},
   "outputs": [],
   "source": [
    "from transformers import AutoTokenizer, AutoModel\n",
    "\n",
    "# Load Tokenizer & Model 1\n",
    "tokenizer = AutoTokenizer.from_pretrained('bert-base-uncased')\n",
    "model = AutoModel.from_pretrained('bert-base-uncased')\n",
    "\n",
    "model.save_pretrained('./bert-base-uncased')\n",
    "tokenizer.save_pretrained('./bert-base-uncased')"
   ]
  },
  {
   "cell_type": "code",
   "execution_count": null,
   "metadata": {},
   "outputs": [],
   "source": [
    "from transformers import AutoTokenizer, AutoModel\n",
    "\n",
    "# Load Tokenizer & Model 1\n",
    "tokenizer = AutoTokenizer.from_pretrained('textattack/bert-base-uncased-SST-2')\n",
    "model = AutoModel.from_pretrained('textattack/bert-base-uncased-SST-2')\n",
    "\n",
    "model.save_pretrained('./bert-base-uncased-SST-2')\n",
    "tokenizer.save_pretrained('./bert-base-uncased-SST-2')"
   ]
  }
 ],
 "metadata": {
  "kernelspec": {
   "display_name": "Python 3.8.13 ('tinybert': conda)",
   "language": "python",
   "name": "python3"
  },
  "language_info": {
   "codemirror_mode": {
    "name": "ipython",
    "version": 3
   },
   "file_extension": ".py",
   "mimetype": "text/x-python",
   "name": "python",
   "nbconvert_exporter": "python",
   "pygments_lexer": "ipython3",
   "version": "3.8.13"
  },
  "orig_nbformat": 4,
  "vscode": {
   "interpreter": {
    "hash": "66472da71602d6383ae3bfbe742d02f740ca2eefb10a28c6a4a3907c4486d941"
   }
  }
 },
 "nbformat": 4,
 "nbformat_minor": 2
}
