{
 "cells": [
  {
   "cell_type": "code",
   "execution_count": null,
   "metadata": {},
   "outputs": [],
   "source": [
    "from transformers import AutoTokenizer, AutoModel\n",
    "\n",
    "# Load Tokenizer & Model \n",
    "tokenizer = AutoTokenizer.from_pretrained('huawei-noah/TinyBERT_General_6L_768D')\n",
    "model = AutoModel.from_pretrained('huawei-noah/TinyBERT_General_6L_768D')\n",
    "\n",
    "model.save_pretrained('./tiny-bert_6l')\n",
    "tokenizer.save_pretrained('./tiny-bert_6l')"
   ]
  },
  {
   "cell_type": "code",
   "execution_count": null,
   "metadata": {},
   "outputs": [],
   "source": [
    "from transformers import AutoTokenizer, AutoModel\n",
    "\n",
    "# Load Tokenizer & Model \n",
    "tokenizer = AutoTokenizer.from_pretrained('huawei-noah/TinyBERT_General_4L_312D')\n",
    "model = AutoModel.from_pretrained('huawei-noah/TinyBERT_General_4L_312D')\n",
    "\n",
    "model.save_pretrained('./tiny-bert')\n",
    "tokenizer.save_pretrained('./tiny-bert')"
   ]
  },
  {
   "cell_type": "code",
   "execution_count": 1,
   "metadata": {},
   "outputs": [
    {
     "data": {
      "text/plain": [
       "('./bert-base-uncased/tokenizer_config.json',\n",
       " './bert-base-uncased/special_tokens_map.json',\n",
       " './bert-base-uncased/vocab.txt',\n",
       " './bert-base-uncased/added_tokens.json')"
      ]
     },
     "execution_count": 1,
     "metadata": {},
     "output_type": "execute_result"
    }
   ],
   "source": [
    "from transformers import AutoTokenizer, AutoModelForSequenceClassification\n",
    "\n",
    "# Load Tokenizer & Model 1\n",
    "tokenizer = AutoTokenizer.from_pretrained('bert-base-uncased')\n",
    "model = AutoModelForSequenceClassification.from_pretrained('bert-base-uncased')\n",
    "\n",
    "model.save_pretrained('./bert-base-uncased')\n",
    "tokenizer.save_pretrained('./bert-base-uncased')"
   ]
  },
  {
   "cell_type": "code",
   "execution_count": 3,
   "metadata": {},
   "outputs": [
    {
     "data": {
      "text/plain": [
       "('./bert-base-uncased-SST-2/tokenizer_config.json',\n",
       " './bert-base-uncased-SST-2/special_tokens_map.json',\n",
       " './bert-base-uncased-SST-2/vocab.txt',\n",
       " './bert-base-uncased-SST-2/added_tokens.json')"
      ]
     },
     "execution_count": 3,
     "metadata": {},
     "output_type": "execute_result"
    }
   ],
   "source": [
    "from transformers import AutoTokenizer, AutoModelForSequenceClassification\n",
    "\n",
    "# Load Tokenizer & Model 1\n",
    "tokenizer = AutoTokenizer.from_pretrained('textattack/bert-base-uncased-SST-2')\n",
    "model = AutoModelForSequenceClassification.from_pretrained('textattack/bert-base-uncased-SST-2')\n",
    "\n",
    "model.save_pretrained('./bert-base-uncased-SST-2')\n",
    "tokenizer.save_pretrained('./bert-base-uncased-SST-2')"
   ]
  },
  {
   "cell_type": "code",
   "execution_count": 4,
   "metadata": {},
   "outputs": [
    {
     "data": {
      "text/plain": [
       "('./bert-base-uncased-CoLA/tokenizer_config.json',\n",
       " './bert-base-uncased-CoLA/special_tokens_map.json',\n",
       " './bert-base-uncased-CoLA/vocab.txt',\n",
       " './bert-base-uncased-CoLA/added_tokens.json')"
      ]
     },
     "execution_count": 4,
     "metadata": {},
     "output_type": "execute_result"
    }
   ],
   "source": [
    "from transformers import AutoTokenizer, AutoModelForSequenceClassification\n",
    "\n",
    "# Load Tokenizer & Model 1\n",
    "tokenizer = AutoTokenizer.from_pretrained('textattack/bert-base-uncased-CoLA')\n",
    "model = AutoModelForSequenceClassification.from_pretrained('textattack/bert-base-uncased-CoLA')\n",
    "\n",
    "model.save_pretrained('./bert-base-uncased-CoLA')\n",
    "tokenizer.save_pretrained('./bert-base-uncased-CoLA')"
   ]
  },
  {
   "cell_type": "code",
   "execution_count": 5,
   "metadata": {},
   "outputs": [
    {
     "data": {
      "text/plain": [
       "('./bert-base-uncased-MNLI/tokenizer_config.json',\n",
       " './bert-base-uncased-MNLI/special_tokens_map.json',\n",
       " './bert-base-uncased-MNLI/vocab.txt',\n",
       " './bert-base-uncased-MNLI/added_tokens.json')"
      ]
     },
     "execution_count": 5,
     "metadata": {},
     "output_type": "execute_result"
    }
   ],
   "source": [
    "from transformers import AutoTokenizer, AutoModelForSequenceClassification\n",
    "\n",
    "# Load Tokenizer & Model 1\n",
    "tokenizer = AutoTokenizer.from_pretrained('textattack/bert-base-uncased-MNLI')\n",
    "model = AutoModelForSequenceClassification.from_pretrained('textattack/bert-base-uncased-MNLI')\n",
    "\n",
    "model.save_pretrained('./bert-base-uncased-MNLI')\n",
    "tokenizer.save_pretrained('./bert-base-uncased-MNLI')"
   ]
  },
  {
   "cell_type": "code",
   "execution_count": 6,
   "metadata": {},
   "outputs": [
    {
     "data": {
      "text/plain": [
       "('./bert-base-uncased-MRPC/tokenizer_config.json',\n",
       " './bert-base-uncased-MRPC/special_tokens_map.json',\n",
       " './bert-base-uncased-MRPC/vocab.txt',\n",
       " './bert-base-uncased-MRPC/added_tokens.json')"
      ]
     },
     "execution_count": 6,
     "metadata": {},
     "output_type": "execute_result"
    }
   ],
   "source": [
    "from transformers import AutoTokenizer, AutoModelForSequenceClassification\n",
    "\n",
    "# Load Tokenizer & Model 1\n",
    "tokenizer = AutoTokenizer.from_pretrained('textattack/bert-base-uncased-MRPC')\n",
    "model = AutoModelForSequenceClassification.from_pretrained('textattack/bert-base-uncased-MRPC')\n",
    "\n",
    "model.save_pretrained('./bert-base-uncased-MRPC')\n",
    "tokenizer.save_pretrained('./bert-base-uncased-MRPC')"
   ]
  },
  {
   "cell_type": "code",
   "execution_count": 7,
   "metadata": {},
   "outputs": [
    {
     "data": {
      "text/plain": [
       "('./bert-base-uncased-RTE/tokenizer_config.json',\n",
       " './bert-base-uncased-RTE/special_tokens_map.json',\n",
       " './bert-base-uncased-RTE/vocab.txt',\n",
       " './bert-base-uncased-RTE/added_tokens.json')"
      ]
     },
     "execution_count": 7,
     "metadata": {},
     "output_type": "execute_result"
    }
   ],
   "source": [
    "from transformers import AutoTokenizer, AutoModelForSequenceClassification\n",
    "\n",
    "# Load Tokenizer & Model 1\n",
    "tokenizer = AutoTokenizer.from_pretrained('textattack/bert-base-uncased-RTE')\n",
    "model = AutoModelForSequenceClassification.from_pretrained('textattack/bert-base-uncased-RTE')\n",
    "\n",
    "model.save_pretrained('./bert-base-uncased-RTE')\n",
    "tokenizer.save_pretrained('./bert-base-uncased-RTE')"
   ]
  },
  {
   "cell_type": "code",
   "execution_count": 8,
   "metadata": {},
   "outputs": [
    {
     "data": {
      "text/plain": [
       "('./bert-base-uncased-STS-B/tokenizer_config.json',\n",
       " './bert-base-uncased-STS-B/special_tokens_map.json',\n",
       " './bert-base-uncased-STS-B/vocab.txt',\n",
       " './bert-base-uncased-STS-B/added_tokens.json')"
      ]
     },
     "execution_count": 8,
     "metadata": {},
     "output_type": "execute_result"
    }
   ],
   "source": [
    "from transformers import AutoTokenizer, AutoModelForSequenceClassification\n",
    "\n",
    "# Load Tokenizer & Model 1\n",
    "tokenizer = AutoTokenizer.from_pretrained('textattack/bert-base-uncased-STS-B')\n",
    "model = AutoModelForSequenceClassification.from_pretrained('textattack/bert-base-uncased-STS-B')\n",
    "\n",
    "model.save_pretrained('./bert-base-uncased-STS-B')\n",
    "tokenizer.save_pretrained('./bert-base-uncased-STS-B')"
   ]
  },
  {
   "cell_type": "code",
   "execution_count": 9,
   "metadata": {},
   "outputs": [
    {
     "data": {
      "text/plain": [
       "('./bert-base-uncased-QNLI/tokenizer_config.json',\n",
       " './bert-base-uncased-QNLI/special_tokens_map.json',\n",
       " './bert-base-uncased-QNLI/vocab.txt',\n",
       " './bert-base-uncased-QNLI/added_tokens.json')"
      ]
     },
     "execution_count": 9,
     "metadata": {},
     "output_type": "execute_result"
    }
   ],
   "source": [
    "from transformers import AutoTokenizer, AutoModelForSequenceClassification\n",
    "\n",
    "# Load Tokenizer & Model 1\n",
    "tokenizer = AutoTokenizer.from_pretrained('textattack/bert-base-uncased-QNLI')\n",
    "model = AutoModelForSequenceClassification.from_pretrained('textattack/bert-base-uncased-QNLI')\n",
    "\n",
    "model.save_pretrained('./bert-base-uncased-QNLI')\n",
    "tokenizer.save_pretrained('./bert-base-uncased-QNLI')"
   ]
  },
  {
   "cell_type": "code",
   "execution_count": 11,
   "metadata": {},
   "outputs": [
    {
     "data": {
      "text/plain": [
       "('./bert-base-uncased-WNLI/tokenizer_config.json',\n",
       " './bert-base-uncased-WNLI/special_tokens_map.json',\n",
       " './bert-base-uncased-WNLI/vocab.txt',\n",
       " './bert-base-uncased-WNLI/added_tokens.json')"
      ]
     },
     "execution_count": 11,
     "metadata": {},
     "output_type": "execute_result"
    }
   ],
   "source": [
    "from transformers import AutoTokenizer, AutoModelForSequenceClassification\n",
    "\n",
    "# Load Tokenizer & Model 1\n",
    "tokenizer = AutoTokenizer.from_pretrained('textattack/bert-base-uncased-WNLI')\n",
    "model = AutoModelForSequenceClassification.from_pretrained('textattack/bert-base-uncased-WNLI')\n",
    "\n",
    "model.save_pretrained('./bert-base-uncased-WNLI')\n",
    "tokenizer.save_pretrained('./bert-base-uncased-WNLI')"
   ]
  },
  {
   "cell_type": "code",
   "execution_count": 10,
   "metadata": {},
   "outputs": [
    {
     "data": {
      "text/plain": [
       "('./bert-base-uncased-QQP/tokenizer_config.json',\n",
       " './bert-base-uncased-QQP/special_tokens_map.json',\n",
       " './bert-base-uncased-QQP/vocab.txt',\n",
       " './bert-base-uncased-QQP/added_tokens.json')"
      ]
     },
     "execution_count": 10,
     "metadata": {},
     "output_type": "execute_result"
    }
   ],
   "source": [
    "from transformers import AutoTokenizer, AutoModelForSequenceClassification\n",
    "\n",
    "# Load Tokenizer & Model 1\n",
    "tokenizer = AutoTokenizer.from_pretrained('textattack/bert-base-uncased-QQP')\n",
    "model = AutoModelForSequenceClassification.from_pretrained('textattack/bert-base-uncased-QQP')\n",
    "\n",
    "model.save_pretrained('./bert-base-uncased-QQP')\n",
    "tokenizer.save_pretrained('./bert-base-uncased-QQP')"
   ]
  },
  {
   "cell_type": "code",
   "execution_count": null,
   "metadata": {},
   "outputs": [],
   "source": []
  }
 ],
 "metadata": {
  "kernelspec": {
   "display_name": "Python 3.8.13 ('simcse': conda)",
   "language": "python",
   "name": "python3"
  },
  "language_info": {
   "codemirror_mode": {
    "name": "ipython",
    "version": 3
   },
   "file_extension": ".py",
   "mimetype": "text/x-python",
   "name": "python",
   "nbconvert_exporter": "python",
   "pygments_lexer": "ipython3",
   "version": "3.8.13"
  },
  "orig_nbformat": 4,
  "vscode": {
   "interpreter": {
    "hash": "e00180a1630cf22a1069826ab22854310a9877c37bce0246f6be786d87944223"
   }
  }
 },
 "nbformat": 4,
 "nbformat_minor": 2
}
